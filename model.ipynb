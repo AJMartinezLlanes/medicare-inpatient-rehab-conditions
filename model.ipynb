{
 "cells": [
  {
   "cell_type": "markdown",
   "metadata": {},
   "source": [
    "# Modeling\n",
    "This notebook contains all steps taken in the modeling phase of the data science pipeline for this project. \n",
    "This notebook does rely on helper files so if you want to run the code blocks in this notebook ensure that you have all the helper files in the same directory.\n",
    "Some comments and markdown cells in this notebook won't match the actual results. This is because the notebook was re-run with many different variations of data and the last one used is not the same as the first."
   ]
  },
  {
   "cell_type": "markdown",
   "metadata": {},
   "source": [
    "---\n",
    "### Required Imports\n",
    "Everything we need to run the code blocks in this notebook are imported below. To run the code blocks in this report you will need numpy, pandas, matplotlib, seaborn and sklearn installed on your computer."
   ]
  },
  {
   "cell_type": "code",
   "execution_count": 1,
   "metadata": {},
   "outputs": [],
   "source": [
    "import pandas as pd\n",
    "import numpy as np\n",
    "\n",
    "import matplotlib.pyplot as plt\n",
    "import seaborn as sns\n",
    "import math\n",
    "\n",
    "from sklearn.linear_model import LinearRegression, LassoLars, TweedieRegressor\n",
    "from sklearn.preprocessing import PolynomialFeatures\n",
    "\n",
    "from sklearn.metrics import mean_squared_error, r2_score\n",
    "from sklearn.model_selection import train_test_split\n",
    "from sklearn.feature_selection import SelectKBest, RFE, f_regression, SequentialFeatureSelector\n",
    "from sklearn.preprocessing import MinMaxScaler\n",
    "\n",
    "from wrangle import *\n",
    "\n",
    "import warnings\n",
    "warnings.filterwarnings('ignore')"
   ]
  },
  {
   "cell_type": "markdown",
   "metadata": {},
   "source": [
    "---\n",
    "## Acquire , Prepare and Split Data\n",
    "\n",
    "Here we will acquire, prepare and split data using the wrangle module."
   ]
  },
  {
   "cell_type": "code",
   "execution_count": 2,
   "metadata": {},
   "outputs": [
    {
     "data": {
      "text/html": [
       "<div>\n",
       "<style scoped>\n",
       "    .dataframe tbody tr th:only-of-type {\n",
       "        vertical-align: middle;\n",
       "    }\n",
       "\n",
       "    .dataframe tbody tr th {\n",
       "        vertical-align: top;\n",
       "    }\n",
       "\n",
       "    .dataframe thead th {\n",
       "        text-align: right;\n",
       "    }\n",
       "</style>\n",
       "<table border=\"1\" class=\"dataframe\">\n",
       "  <thead>\n",
       "    <tr style=\"text-align: right;\">\n",
       "      <th></th>\n",
       "      <th>cms_certification_number_(ccn)</th>\n",
       "      <th>city</th>\n",
       "      <th>state</th>\n",
       "      <th>county_name</th>\n",
       "      <th>cms_region</th>\n",
       "      <th>condition</th>\n",
       "      <th>number_of_instances</th>\n",
       "      <th>footnote</th>\n",
       "    </tr>\n",
       "  </thead>\n",
       "  <tbody>\n",
       "    <tr>\n",
       "      <th>0</th>\n",
       "      <td>013025</td>\n",
       "      <td>BIRMINGHAM</td>\n",
       "      <td>AL</td>\n",
       "      <td>Jefferson</td>\n",
       "      <td>4</td>\n",
       "      <td>All other conditions</td>\n",
       "      <td>346</td>\n",
       "      <td>0.0</td>\n",
       "    </tr>\n",
       "    <tr>\n",
       "      <th>1</th>\n",
       "      <td>013025</td>\n",
       "      <td>BIRMINGHAM</td>\n",
       "      <td>AL</td>\n",
       "      <td>Jefferson</td>\n",
       "      <td>4</td>\n",
       "      <td>Brain disease or condition (non-traumatic)</td>\n",
       "      <td>150</td>\n",
       "      <td>0.0</td>\n",
       "    </tr>\n",
       "    <tr>\n",
       "      <th>2</th>\n",
       "      <td>013025</td>\n",
       "      <td>BIRMINGHAM</td>\n",
       "      <td>AL</td>\n",
       "      <td>Jefferson</td>\n",
       "      <td>4</td>\n",
       "      <td>Brain injury (traumatic)</td>\n",
       "      <td>38</td>\n",
       "      <td>0.0</td>\n",
       "    </tr>\n",
       "    <tr>\n",
       "      <th>3</th>\n",
       "      <td>013025</td>\n",
       "      <td>BIRMINGHAM</td>\n",
       "      <td>AL</td>\n",
       "      <td>Jefferson</td>\n",
       "      <td>4</td>\n",
       "      <td>Hip or femur fracture</td>\n",
       "      <td>156</td>\n",
       "      <td>0.0</td>\n",
       "    </tr>\n",
       "    <tr>\n",
       "      <th>4</th>\n",
       "      <td>013025</td>\n",
       "      <td>BIRMINGHAM</td>\n",
       "      <td>AL</td>\n",
       "      <td>Jefferson</td>\n",
       "      <td>4</td>\n",
       "      <td>Hip or knee replacement, amputation or other b...</td>\n",
       "      <td>329</td>\n",
       "      <td>0.0</td>\n",
       "    </tr>\n",
       "  </tbody>\n",
       "</table>\n",
       "</div>"
      ],
      "text/plain": [
       "  cms_certification_number_(ccn)        city state county_name cms_region  \\\n",
       "0                         013025  BIRMINGHAM    AL   Jefferson          4   \n",
       "1                         013025  BIRMINGHAM    AL   Jefferson          4   \n",
       "2                         013025  BIRMINGHAM    AL   Jefferson          4   \n",
       "3                         013025  BIRMINGHAM    AL   Jefferson          4   \n",
       "4                         013025  BIRMINGHAM    AL   Jefferson          4   \n",
       "\n",
       "                                           condition  number_of_instances  \\\n",
       "0                               All other conditions                  346   \n",
       "1         Brain disease or condition (non-traumatic)                  150   \n",
       "2                           Brain injury (traumatic)                   38   \n",
       "3                              Hip or femur fracture                  156   \n",
       "4  Hip or knee replacement, amputation or other b...                  329   \n",
       "\n",
       "  footnote  \n",
       "0      0.0  \n",
       "1      0.0  \n",
       "2      0.0  \n",
       "3      0.0  \n",
       "4      0.0  "
      ]
     },
     "execution_count": 2,
     "metadata": {},
     "output_type": "execute_result"
    }
   ],
   "source": [
    "df = clean_data()\n",
    "df.head()"
   ]
  },
  {
   "cell_type": "code",
   "execution_count": 3,
   "metadata": {},
   "outputs": [
    {
     "name": "stdout",
     "output_type": "stream",
     "text": [
      "data has been split\n",
      "(5931, 69) (2543, 69) (2119, 69)\n"
     ]
    }
   ],
   "source": [
    "train, validate, test = wrangle(df)"
   ]
  },
  {
   "cell_type": "markdown",
   "metadata": {},
   "source": [
    "Verify that the split worked"
   ]
  },
  {
   "cell_type": "code",
   "execution_count": 4,
   "metadata": {},
   "outputs": [
    {
     "data": {
      "text/html": [
       "<div>\n",
       "<style scoped>\n",
       "    .dataframe tbody tr th:only-of-type {\n",
       "        vertical-align: middle;\n",
       "    }\n",
       "\n",
       "    .dataframe tbody tr th {\n",
       "        vertical-align: top;\n",
       "    }\n",
       "\n",
       "    .dataframe thead th {\n",
       "        text-align: right;\n",
       "    }\n",
       "</style>\n",
       "<table border=\"1\" class=\"dataframe\">\n",
       "  <thead>\n",
       "    <tr style=\"text-align: right;\">\n",
       "      <th></th>\n",
       "      <th>cms_certification_number_(ccn)</th>\n",
       "      <th>city</th>\n",
       "      <th>state</th>\n",
       "      <th>county_name</th>\n",
       "      <th>cms_region</th>\n",
       "      <th>condition</th>\n",
       "      <th>number_of_instances</th>\n",
       "      <th>footnote</th>\n",
       "      <th>state_ak</th>\n",
       "      <th>state_al</th>\n",
       "      <th>...</th>\n",
       "      <th>state_wy</th>\n",
       "      <th>condition_all_other_conditions</th>\n",
       "      <th>condition_brain_disease_or_condition_(non_traumatic)</th>\n",
       "      <th>condition_brain_injury_(traumatic)</th>\n",
       "      <th>condition_hip_or_femur_fracture</th>\n",
       "      <th>condition_hip_or_knee_replacement,_amputation_or_other_bone_or_joint_condition</th>\n",
       "      <th>condition_nervous_system_disorder_(excluding_stroke)</th>\n",
       "      <th>condition_spinal_cord_disease_or_condition_(non_traumatic)</th>\n",
       "      <th>condition_spinal_cord_injury_(traumatic)</th>\n",
       "      <th>condition_stroke</th>\n",
       "    </tr>\n",
       "  </thead>\n",
       "  <tbody>\n",
       "    <tr>\n",
       "      <th>6737</th>\n",
       "      <td>36T068</td>\n",
       "      <td>SYLVANIA</td>\n",
       "      <td>OH</td>\n",
       "      <td>Lucas</td>\n",
       "      <td>5</td>\n",
       "      <td>Nervous system disorder (excluding stroke)</td>\n",
       "      <td>10</td>\n",
       "      <td>1.0</td>\n",
       "      <td>0</td>\n",
       "      <td>0</td>\n",
       "      <td>...</td>\n",
       "      <td>0</td>\n",
       "      <td>0</td>\n",
       "      <td>0</td>\n",
       "      <td>0</td>\n",
       "      <td>0</td>\n",
       "      <td>0</td>\n",
       "      <td>1</td>\n",
       "      <td>0</td>\n",
       "      <td>0</td>\n",
       "      <td>0</td>\n",
       "    </tr>\n",
       "    <tr>\n",
       "      <th>8915</th>\n",
       "      <td>45T184</td>\n",
       "      <td>HOUSTON</td>\n",
       "      <td>TX</td>\n",
       "      <td>Harris</td>\n",
       "      <td>6</td>\n",
       "      <td>Nervous system disorder (excluding stroke)</td>\n",
       "      <td>29</td>\n",
       "      <td>0.0</td>\n",
       "      <td>0</td>\n",
       "      <td>0</td>\n",
       "      <td>...</td>\n",
       "      <td>0</td>\n",
       "      <td>0</td>\n",
       "      <td>0</td>\n",
       "      <td>0</td>\n",
       "      <td>0</td>\n",
       "      <td>0</td>\n",
       "      <td>1</td>\n",
       "      <td>0</td>\n",
       "      <td>0</td>\n",
       "      <td>0</td>\n",
       "    </tr>\n",
       "    <tr>\n",
       "      <th>86</th>\n",
       "      <td>01T033</td>\n",
       "      <td>BIRMINGHAM</td>\n",
       "      <td>AL</td>\n",
       "      <td>Jefferson</td>\n",
       "      <td>4</td>\n",
       "      <td>Nervous system disorder (excluding stroke)</td>\n",
       "      <td>12</td>\n",
       "      <td>0.0</td>\n",
       "      <td>0</td>\n",
       "      <td>1</td>\n",
       "      <td>...</td>\n",
       "      <td>0</td>\n",
       "      <td>0</td>\n",
       "      <td>0</td>\n",
       "      <td>0</td>\n",
       "      <td>0</td>\n",
       "      <td>0</td>\n",
       "      <td>1</td>\n",
       "      <td>0</td>\n",
       "      <td>0</td>\n",
       "      <td>0</td>\n",
       "    </tr>\n",
       "    <tr>\n",
       "      <th>1216</th>\n",
       "      <td>05T438</td>\n",
       "      <td>PASADENA</td>\n",
       "      <td>CA</td>\n",
       "      <td>Los Angeles</td>\n",
       "      <td>9</td>\n",
       "      <td>Brain disease or condition (non-traumatic)</td>\n",
       "      <td>10</td>\n",
       "      <td>1.0</td>\n",
       "      <td>0</td>\n",
       "      <td>0</td>\n",
       "      <td>...</td>\n",
       "      <td>0</td>\n",
       "      <td>0</td>\n",
       "      <td>1</td>\n",
       "      <td>0</td>\n",
       "      <td>0</td>\n",
       "      <td>0</td>\n",
       "      <td>0</td>\n",
       "      <td>0</td>\n",
       "      <td>0</td>\n",
       "      <td>0</td>\n",
       "    </tr>\n",
       "    <tr>\n",
       "      <th>8870</th>\n",
       "      <td>45T119</td>\n",
       "      <td>EDINBURG</td>\n",
       "      <td>TX</td>\n",
       "      <td>Hidalgo</td>\n",
       "      <td>6</td>\n",
       "      <td>Nervous system disorder (excluding stroke)</td>\n",
       "      <td>41</td>\n",
       "      <td>0.0</td>\n",
       "      <td>0</td>\n",
       "      <td>0</td>\n",
       "      <td>...</td>\n",
       "      <td>0</td>\n",
       "      <td>0</td>\n",
       "      <td>0</td>\n",
       "      <td>0</td>\n",
       "      <td>0</td>\n",
       "      <td>0</td>\n",
       "      <td>1</td>\n",
       "      <td>0</td>\n",
       "      <td>0</td>\n",
       "      <td>0</td>\n",
       "    </tr>\n",
       "    <tr>\n",
       "      <th>...</th>\n",
       "      <td>...</td>\n",
       "      <td>...</td>\n",
       "      <td>...</td>\n",
       "      <td>...</td>\n",
       "      <td>...</td>\n",
       "      <td>...</td>\n",
       "      <td>...</td>\n",
       "      <td>...</td>\n",
       "      <td>...</td>\n",
       "      <td>...</td>\n",
       "      <td>...</td>\n",
       "      <td>...</td>\n",
       "      <td>...</td>\n",
       "      <td>...</td>\n",
       "      <td>...</td>\n",
       "      <td>...</td>\n",
       "      <td>...</td>\n",
       "      <td>...</td>\n",
       "      <td>...</td>\n",
       "      <td>...</td>\n",
       "      <td>...</td>\n",
       "    </tr>\n",
       "    <tr>\n",
       "      <th>5382</th>\n",
       "      <td>293032</td>\n",
       "      <td>HENDERSON</td>\n",
       "      <td>NV</td>\n",
       "      <td>Clark</td>\n",
       "      <td>9</td>\n",
       "      <td>All other conditions</td>\n",
       "      <td>154</td>\n",
       "      <td>0.0</td>\n",
       "      <td>0</td>\n",
       "      <td>0</td>\n",
       "      <td>...</td>\n",
       "      <td>0</td>\n",
       "      <td>1</td>\n",
       "      <td>0</td>\n",
       "      <td>0</td>\n",
       "      <td>0</td>\n",
       "      <td>0</td>\n",
       "      <td>0</td>\n",
       "      <td>0</td>\n",
       "      <td>0</td>\n",
       "      <td>0</td>\n",
       "    </tr>\n",
       "    <tr>\n",
       "      <th>5102</th>\n",
       "      <td>26T040</td>\n",
       "      <td>SPRINGFIELD</td>\n",
       "      <td>MO</td>\n",
       "      <td>Greene</td>\n",
       "      <td>7</td>\n",
       "      <td>Stroke</td>\n",
       "      <td>47</td>\n",
       "      <td>0.0</td>\n",
       "      <td>0</td>\n",
       "      <td>0</td>\n",
       "      <td>...</td>\n",
       "      <td>0</td>\n",
       "      <td>0</td>\n",
       "      <td>0</td>\n",
       "      <td>0</td>\n",
       "      <td>0</td>\n",
       "      <td>0</td>\n",
       "      <td>0</td>\n",
       "      <td>0</td>\n",
       "      <td>0</td>\n",
       "      <td>1</td>\n",
       "    </tr>\n",
       "    <tr>\n",
       "      <th>6441</th>\n",
       "      <td>35T006</td>\n",
       "      <td>MINOT</td>\n",
       "      <td>ND</td>\n",
       "      <td>Ward</td>\n",
       "      <td>8</td>\n",
       "      <td>Spinal cord disease or condition (non-traumatic)</td>\n",
       "      <td>10</td>\n",
       "      <td>1.0</td>\n",
       "      <td>0</td>\n",
       "      <td>0</td>\n",
       "      <td>...</td>\n",
       "      <td>0</td>\n",
       "      <td>0</td>\n",
       "      <td>0</td>\n",
       "      <td>0</td>\n",
       "      <td>0</td>\n",
       "      <td>0</td>\n",
       "      <td>0</td>\n",
       "      <td>1</td>\n",
       "      <td>0</td>\n",
       "      <td>0</td>\n",
       "    </tr>\n",
       "    <tr>\n",
       "      <th>8921</th>\n",
       "      <td>45T193</td>\n",
       "      <td>HOUSTON</td>\n",
       "      <td>TX</td>\n",
       "      <td>Harris</td>\n",
       "      <td>6</td>\n",
       "      <td>Brain injury (traumatic)</td>\n",
       "      <td>10</td>\n",
       "      <td>1.0</td>\n",
       "      <td>0</td>\n",
       "      <td>0</td>\n",
       "      <td>...</td>\n",
       "      <td>0</td>\n",
       "      <td>0</td>\n",
       "      <td>0</td>\n",
       "      <td>1</td>\n",
       "      <td>0</td>\n",
       "      <td>0</td>\n",
       "      <td>0</td>\n",
       "      <td>0</td>\n",
       "      <td>0</td>\n",
       "      <td>0</td>\n",
       "    </tr>\n",
       "    <tr>\n",
       "      <th>1233</th>\n",
       "      <td>05T457</td>\n",
       "      <td>SAN FRANCISCO</td>\n",
       "      <td>CA</td>\n",
       "      <td>San Francisco</td>\n",
       "      <td>9</td>\n",
       "      <td>All other conditions</td>\n",
       "      <td>14</td>\n",
       "      <td>0.0</td>\n",
       "      <td>0</td>\n",
       "      <td>0</td>\n",
       "      <td>...</td>\n",
       "      <td>0</td>\n",
       "      <td>1</td>\n",
       "      <td>0</td>\n",
       "      <td>0</td>\n",
       "      <td>0</td>\n",
       "      <td>0</td>\n",
       "      <td>0</td>\n",
       "      <td>0</td>\n",
       "      <td>0</td>\n",
       "      <td>0</td>\n",
       "    </tr>\n",
       "  </tbody>\n",
       "</table>\n",
       "<p>5931 rows × 69 columns</p>\n",
       "</div>"
      ],
      "text/plain": [
       "     cms_certification_number_(ccn)           city state    county_name  \\\n",
       "6737                         36T068       SYLVANIA    OH          Lucas   \n",
       "8915                         45T184        HOUSTON    TX         Harris   \n",
       "86                           01T033     BIRMINGHAM    AL      Jefferson   \n",
       "1216                         05T438       PASADENA    CA    Los Angeles   \n",
       "8870                         45T119       EDINBURG    TX        Hidalgo   \n",
       "...                             ...            ...   ...            ...   \n",
       "5382                         293032      HENDERSON    NV          Clark   \n",
       "5102                         26T040    SPRINGFIELD    MO         Greene   \n",
       "6441                         35T006          MINOT    ND           Ward   \n",
       "8921                         45T193        HOUSTON    TX         Harris   \n",
       "1233                         05T457  SAN FRANCISCO    CA  San Francisco   \n",
       "\n",
       "     cms_region                                         condition  \\\n",
       "6737          5        Nervous system disorder (excluding stroke)   \n",
       "8915          6        Nervous system disorder (excluding stroke)   \n",
       "86            4        Nervous system disorder (excluding stroke)   \n",
       "1216          9        Brain disease or condition (non-traumatic)   \n",
       "8870          6        Nervous system disorder (excluding stroke)   \n",
       "...         ...                                               ...   \n",
       "5382          9                              All other conditions   \n",
       "5102          7                                            Stroke   \n",
       "6441          8  Spinal cord disease or condition (non-traumatic)   \n",
       "8921          6                          Brain injury (traumatic)   \n",
       "1233          9                              All other conditions   \n",
       "\n",
       "      number_of_instances footnote  state_ak  state_al  ...  state_wy  \\\n",
       "6737                   10      1.0         0         0  ...         0   \n",
       "8915                   29      0.0         0         0  ...         0   \n",
       "86                     12      0.0         0         1  ...         0   \n",
       "1216                   10      1.0         0         0  ...         0   \n",
       "8870                   41      0.0         0         0  ...         0   \n",
       "...                   ...      ...       ...       ...  ...       ...   \n",
       "5382                  154      0.0         0         0  ...         0   \n",
       "5102                   47      0.0         0         0  ...         0   \n",
       "6441                   10      1.0         0         0  ...         0   \n",
       "8921                   10      1.0         0         0  ...         0   \n",
       "1233                   14      0.0         0         0  ...         0   \n",
       "\n",
       "      condition_all_other_conditions  \\\n",
       "6737                               0   \n",
       "8915                               0   \n",
       "86                                 0   \n",
       "1216                               0   \n",
       "8870                               0   \n",
       "...                              ...   \n",
       "5382                               1   \n",
       "5102                               0   \n",
       "6441                               0   \n",
       "8921                               0   \n",
       "1233                               1   \n",
       "\n",
       "      condition_brain_disease_or_condition_(non_traumatic)  \\\n",
       "6737                                                  0      \n",
       "8915                                                  0      \n",
       "86                                                    0      \n",
       "1216                                                  1      \n",
       "8870                                                  0      \n",
       "...                                                 ...      \n",
       "5382                                                  0      \n",
       "5102                                                  0      \n",
       "6441                                                  0      \n",
       "8921                                                  0      \n",
       "1233                                                  0      \n",
       "\n",
       "      condition_brain_injury_(traumatic)  condition_hip_or_femur_fracture  \\\n",
       "6737                                   0                                0   \n",
       "8915                                   0                                0   \n",
       "86                                     0                                0   \n",
       "1216                                   0                                0   \n",
       "8870                                   0                                0   \n",
       "...                                  ...                              ...   \n",
       "5382                                   0                                0   \n",
       "5102                                   0                                0   \n",
       "6441                                   0                                0   \n",
       "8921                                   1                                0   \n",
       "1233                                   0                                0   \n",
       "\n",
       "      condition_hip_or_knee_replacement,_amputation_or_other_bone_or_joint_condition  \\\n",
       "6737                                                  0                                \n",
       "8915                                                  0                                \n",
       "86                                                    0                                \n",
       "1216                                                  0                                \n",
       "8870                                                  0                                \n",
       "...                                                 ...                                \n",
       "5382                                                  0                                \n",
       "5102                                                  0                                \n",
       "6441                                                  0                                \n",
       "8921                                                  0                                \n",
       "1233                                                  0                                \n",
       "\n",
       "      condition_nervous_system_disorder_(excluding_stroke)  \\\n",
       "6737                                                  1      \n",
       "8915                                                  1      \n",
       "86                                                    1      \n",
       "1216                                                  0      \n",
       "8870                                                  1      \n",
       "...                                                 ...      \n",
       "5382                                                  0      \n",
       "5102                                                  0      \n",
       "6441                                                  0      \n",
       "8921                                                  0      \n",
       "1233                                                  0      \n",
       "\n",
       "      condition_spinal_cord_disease_or_condition_(non_traumatic)  \\\n",
       "6737                                                  0            \n",
       "8915                                                  0            \n",
       "86                                                    0            \n",
       "1216                                                  0            \n",
       "8870                                                  0            \n",
       "...                                                 ...            \n",
       "5382                                                  0            \n",
       "5102                                                  0            \n",
       "6441                                                  1            \n",
       "8921                                                  0            \n",
       "1233                                                  0            \n",
       "\n",
       "      condition_spinal_cord_injury_(traumatic)  condition_stroke  \n",
       "6737                                         0                 0  \n",
       "8915                                         0                 0  \n",
       "86                                           0                 0  \n",
       "1216                                         0                 0  \n",
       "8870                                         0                 0  \n",
       "...                                        ...               ...  \n",
       "5382                                         0                 0  \n",
       "5102                                         0                 1  \n",
       "6441                                         0                 0  \n",
       "8921                                         0                 0  \n",
       "1233                                         0                 0  \n",
       "\n",
       "[5931 rows x 69 columns]"
      ]
     },
     "execution_count": 4,
     "metadata": {},
     "output_type": "execute_result"
    }
   ],
   "source": [
    "train"
   ]
  },
  {
   "cell_type": "code",
   "execution_count": 5,
   "metadata": {},
   "outputs": [
    {
     "data": {
      "text/plain": [
       "Index(['cms_certification_number_(ccn)', 'city', 'state', 'county_name',\n",
       "       'cms_region', 'condition', 'number_of_instances', 'footnote',\n",
       "       'state_ak', 'state_al', 'state_ar', 'state_az', 'state_ca', 'state_co',\n",
       "       'state_ct', 'state_dc', 'state_de', 'state_fl', 'state_ga', 'state_hi',\n",
       "       'state_ia', 'state_id', 'state_il', 'state_in', 'state_ks', 'state_ky',\n",
       "       'state_la', 'state_ma', 'state_md', 'state_me', 'state_mi', 'state_mn',\n",
       "       'state_mo', 'state_ms', 'state_mt', 'state_nc', 'state_nd', 'state_ne',\n",
       "       'state_nh', 'state_nj', 'state_nm', 'state_nv', 'state_ny', 'state_oh',\n",
       "       'state_ok', 'state_or', 'state_pa', 'state_pr', 'state_ri', 'state_sc',\n",
       "       'state_sd', 'state_tn', 'state_tx', 'state_ut', 'state_va', 'state_vt',\n",
       "       'state_wa', 'state_wi', 'state_wv', 'state_wy',\n",
       "       'condition_all_other_conditions',\n",
       "       'condition_brain_disease_or_condition_(non_traumatic)',\n",
       "       'condition_brain_injury_(traumatic)', 'condition_hip_or_femur_fracture',\n",
       "       'condition_hip_or_knee_replacement,_amputation_or_other_bone_or_joint_condition',\n",
       "       'condition_nervous_system_disorder_(excluding_stroke)',\n",
       "       'condition_spinal_cord_disease_or_condition_(non_traumatic)',\n",
       "       'condition_spinal_cord_injury_(traumatic)', 'condition_stroke'],\n",
       "      dtype='object')"
      ]
     },
     "execution_count": 5,
     "metadata": {},
     "output_type": "execute_result"
    }
   ],
   "source": [
    "train.columns"
   ]
  },
  {
   "cell_type": "markdown",
   "metadata": {},
   "source": [
    "Check for object columns "
   ]
  },
  {
   "cell_type": "code",
   "execution_count": 6,
   "metadata": {},
   "outputs": [
    {
     "name": "stdout",
     "output_type": "stream",
     "text": [
      "<class 'pandas.core.frame.DataFrame'>\n",
      "Int64Index: 5931 entries, 6737 to 1233\n",
      "Data columns (total 69 columns):\n",
      " #   Column                                                                          Non-Null Count  Dtype \n",
      "---  ------                                                                          --------------  ----- \n",
      " 0   cms_certification_number_(ccn)                                                  5931 non-null   object\n",
      " 1   city                                                                            5931 non-null   object\n",
      " 2   state                                                                           5931 non-null   object\n",
      " 3   county_name                                                                     5931 non-null   object\n",
      " 4   cms_region                                                                      5931 non-null   object\n",
      " 5   condition                                                                       5931 non-null   object\n",
      " 6   number_of_instances                                                             5931 non-null   int64 \n",
      " 7   footnote                                                                        5931 non-null   object\n",
      " 8   state_ak                                                                        5931 non-null   uint8 \n",
      " 9   state_al                                                                        5931 non-null   uint8 \n",
      " 10  state_ar                                                                        5931 non-null   uint8 \n",
      " 11  state_az                                                                        5931 non-null   uint8 \n",
      " 12  state_ca                                                                        5931 non-null   uint8 \n",
      " 13  state_co                                                                        5931 non-null   uint8 \n",
      " 14  state_ct                                                                        5931 non-null   uint8 \n",
      " 15  state_dc                                                                        5931 non-null   uint8 \n",
      " 16  state_de                                                                        5931 non-null   uint8 \n",
      " 17  state_fl                                                                        5931 non-null   uint8 \n",
      " 18  state_ga                                                                        5931 non-null   uint8 \n",
      " 19  state_hi                                                                        5931 non-null   uint8 \n",
      " 20  state_ia                                                                        5931 non-null   uint8 \n",
      " 21  state_id                                                                        5931 non-null   uint8 \n",
      " 22  state_il                                                                        5931 non-null   uint8 \n",
      " 23  state_in                                                                        5931 non-null   uint8 \n",
      " 24  state_ks                                                                        5931 non-null   uint8 \n",
      " 25  state_ky                                                                        5931 non-null   uint8 \n",
      " 26  state_la                                                                        5931 non-null   uint8 \n",
      " 27  state_ma                                                                        5931 non-null   uint8 \n",
      " 28  state_md                                                                        5931 non-null   uint8 \n",
      " 29  state_me                                                                        5931 non-null   uint8 \n",
      " 30  state_mi                                                                        5931 non-null   uint8 \n",
      " 31  state_mn                                                                        5931 non-null   uint8 \n",
      " 32  state_mo                                                                        5931 non-null   uint8 \n",
      " 33  state_ms                                                                        5931 non-null   uint8 \n",
      " 34  state_mt                                                                        5931 non-null   uint8 \n",
      " 35  state_nc                                                                        5931 non-null   uint8 \n",
      " 36  state_nd                                                                        5931 non-null   uint8 \n",
      " 37  state_ne                                                                        5931 non-null   uint8 \n",
      " 38  state_nh                                                                        5931 non-null   uint8 \n",
      " 39  state_nj                                                                        5931 non-null   uint8 \n",
      " 40  state_nm                                                                        5931 non-null   uint8 \n",
      " 41  state_nv                                                                        5931 non-null   uint8 \n",
      " 42  state_ny                                                                        5931 non-null   uint8 \n",
      " 43  state_oh                                                                        5931 non-null   uint8 \n",
      " 44  state_ok                                                                        5931 non-null   uint8 \n",
      " 45  state_or                                                                        5931 non-null   uint8 \n",
      " 46  state_pa                                                                        5931 non-null   uint8 \n",
      " 47  state_pr                                                                        5931 non-null   uint8 \n",
      " 48  state_ri                                                                        5931 non-null   uint8 \n",
      " 49  state_sc                                                                        5931 non-null   uint8 \n",
      " 50  state_sd                                                                        5931 non-null   uint8 \n",
      " 51  state_tn                                                                        5931 non-null   uint8 \n",
      " 52  state_tx                                                                        5931 non-null   uint8 \n",
      " 53  state_ut                                                                        5931 non-null   uint8 \n",
      " 54  state_va                                                                        5931 non-null   uint8 \n",
      " 55  state_vt                                                                        5931 non-null   uint8 \n",
      " 56  state_wa                                                                        5931 non-null   uint8 \n",
      " 57  state_wi                                                                        5931 non-null   uint8 \n",
      " 58  state_wv                                                                        5931 non-null   uint8 \n",
      " 59  state_wy                                                                        5931 non-null   uint8 \n",
      " 60  condition_all_other_conditions                                                  5931 non-null   uint8 \n",
      " 61  condition_brain_disease_or_condition_(non_traumatic)                            5931 non-null   uint8 \n",
      " 62  condition_brain_injury_(traumatic)                                              5931 non-null   uint8 \n",
      " 63  condition_hip_or_femur_fracture                                                 5931 non-null   uint8 \n",
      " 64  condition_hip_or_knee_replacement,_amputation_or_other_bone_or_joint_condition  5931 non-null   uint8 \n",
      " 65  condition_nervous_system_disorder_(excluding_stroke)                            5931 non-null   uint8 \n",
      " 66  condition_spinal_cord_disease_or_condition_(non_traumatic)                      5931 non-null   uint8 \n",
      " 67  condition_spinal_cord_injury_(traumatic)                                        5931 non-null   uint8 \n",
      " 68  condition_stroke                                                                5931 non-null   uint8 \n",
      "dtypes: int64(1), object(7), uint8(61)\n",
      "memory usage: 770.3+ KB\n"
     ]
    }
   ],
   "source": [
    "train.info()"
   ]
  },
  {
   "cell_type": "markdown",
   "metadata": {},
   "source": [
    "Remove all object columns to be able to fit them in the model"
   ]
  },
  {
   "cell_type": "code",
   "execution_count": 7,
   "metadata": {},
   "outputs": [],
   "source": [
    "train.drop(columns=['cms_certification_number_(ccn)', 'city', 'state','county_name', 'condition', 'footnote', 'cms_region'], inplace=True)\n",
    "validate.drop(columns=['cms_certification_number_(ccn)', 'city', 'state','county_name', 'condition', 'footnote', 'cms_region'], inplace=True)\n",
    "test.drop(columns=['cms_certification_number_(ccn)', 'city', 'state','county_name', 'condition', 'footnote', 'cms_region'], inplace=True)"
   ]
  },
  {
   "cell_type": "markdown",
   "metadata": {},
   "source": [
    "Split train into X and y"
   ]
  },
  {
   "cell_type": "code",
   "execution_count": 8,
   "metadata": {},
   "outputs": [],
   "source": [
    "X_train = train.drop(columns=['number_of_instances'])\n",
    "y_train = train.number_of_instances\n",
    "\n",
    "X_validate = validate.drop(columns=['number_of_instances'])\n",
    "y_validate = validate.number_of_instances\n",
    "\n",
    "X_test = test.drop(columns=['number_of_instances'])\n",
    "y_test = test.number_of_instances"
   ]
  },
  {
   "cell_type": "markdown",
   "metadata": {},
   "source": [
    "### Select K best\n",
    "Check for the eight best features"
   ]
  },
  {
   "cell_type": "code",
   "execution_count": 9,
   "metadata": {},
   "outputs": [],
   "source": [
    "f_selector = SelectKBest(f_regression, k=8)\n",
    "\n",
    "# find the top 8 X's correlated with y\n",
    "f_selector.fit(X_train, y_train)\n",
    "\n",
    "# boolean mask of whether the column was selected or not. \n",
    "feature_mask = f_selector.get_support()\n",
    "\n",
    "# get list of top K features. \n",
    "f_feature = X_train.iloc[:,feature_mask].columns.tolist()"
   ]
  },
  {
   "cell_type": "markdown",
   "metadata": {},
   "source": [
    "Display the top 8 features"
   ]
  },
  {
   "cell_type": "code",
   "execution_count": 10,
   "metadata": {},
   "outputs": [
    {
     "data": {
      "text/plain": [
       "['state_fl',\n",
       " 'state_ma',\n",
       " 'state_nj',\n",
       " 'condition_all_other_conditions',\n",
       " 'condition_brain_injury_(traumatic)',\n",
       " 'condition_spinal_cord_disease_or_condition_(non_traumatic)',\n",
       " 'condition_spinal_cord_injury_(traumatic)',\n",
       " 'condition_stroke']"
      ]
     },
     "execution_count": 10,
     "metadata": {},
     "output_type": "execute_result"
    }
   ],
   "source": [
    "f_feature"
   ]
  },
  {
   "cell_type": "markdown",
   "metadata": {},
   "source": [
    "Select Kbest to select top 3 features for predicting number of instances "
   ]
  },
  {
   "cell_type": "code",
   "execution_count": 11,
   "metadata": {},
   "outputs": [
    {
     "data": {
      "text/plain": [
       "SelectKBest(k=3, score_func=<function f_regression at 0x7faa7900d1f0>)"
      ]
     },
     "execution_count": 11,
     "metadata": {},
     "output_type": "execute_result"
    }
   ],
   "source": [
    "kbest = SelectKBest(f_regression, k=3)\n",
    "kbest.fit(X_train, y_train)"
   ]
  },
  {
   "cell_type": "markdown",
   "metadata": {},
   "source": [
    "Let's check out the results"
   ]
  },
  {
   "cell_type": "code",
   "execution_count": 12,
   "metadata": {},
   "outputs": [
    {
     "data": {
      "text/html": [
       "<div>\n",
       "<style scoped>\n",
       "    .dataframe tbody tr th:only-of-type {\n",
       "        vertical-align: middle;\n",
       "    }\n",
       "\n",
       "    .dataframe tbody tr th {\n",
       "        vertical-align: top;\n",
       "    }\n",
       "\n",
       "    .dataframe thead th {\n",
       "        text-align: right;\n",
       "    }\n",
       "</style>\n",
       "<table border=\"1\" class=\"dataframe\">\n",
       "  <thead>\n",
       "    <tr style=\"text-align: right;\">\n",
       "      <th></th>\n",
       "      <th>p</th>\n",
       "      <th>f</th>\n",
       "    </tr>\n",
       "  </thead>\n",
       "  <tbody>\n",
       "    <tr>\n",
       "      <th>state_ak</th>\n",
       "      <td>1.395159e-01</td>\n",
       "      <td>2.183876</td>\n",
       "    </tr>\n",
       "    <tr>\n",
       "      <th>state_al</th>\n",
       "      <td>3.481640e-07</td>\n",
       "      <td>26.021347</td>\n",
       "    </tr>\n",
       "    <tr>\n",
       "      <th>state_ar</th>\n",
       "      <td>7.136472e-01</td>\n",
       "      <td>0.134674</td>\n",
       "    </tr>\n",
       "    <tr>\n",
       "      <th>state_az</th>\n",
       "      <td>7.856320e-01</td>\n",
       "      <td>0.073984</td>\n",
       "    </tr>\n",
       "    <tr>\n",
       "      <th>state_ca</th>\n",
       "      <td>8.736702e-06</td>\n",
       "      <td>19.804141</td>\n",
       "    </tr>\n",
       "    <tr>\n",
       "      <th>...</th>\n",
       "      <td>...</td>\n",
       "      <td>...</td>\n",
       "    </tr>\n",
       "    <tr>\n",
       "      <th>condition_hip_or_knee_replacement,_amputation_or_other_bone_or_joint_condition</th>\n",
       "      <td>1.123506e-08</td>\n",
       "      <td>32.707527</td>\n",
       "    </tr>\n",
       "    <tr>\n",
       "      <th>condition_nervous_system_disorder_(excluding_stroke)</th>\n",
       "      <td>5.222819e-05</td>\n",
       "      <td>16.389458</td>\n",
       "    </tr>\n",
       "    <tr>\n",
       "      <th>condition_spinal_cord_disease_or_condition_(non_traumatic)</th>\n",
       "      <td>9.169113e-28</td>\n",
       "      <td>120.481575</td>\n",
       "    </tr>\n",
       "    <tr>\n",
       "      <th>condition_spinal_cord_injury_(traumatic)</th>\n",
       "      <td>1.277457e-49</td>\n",
       "      <td>223.438273</td>\n",
       "    </tr>\n",
       "    <tr>\n",
       "      <th>condition_stroke</th>\n",
       "      <td>5.486418e-65</td>\n",
       "      <td>297.028932</td>\n",
       "    </tr>\n",
       "  </tbody>\n",
       "</table>\n",
       "<p>61 rows × 2 columns</p>\n",
       "</div>"
      ],
      "text/plain": [
       "                                                               p           f\n",
       "state_ak                                            1.395159e-01    2.183876\n",
       "state_al                                            3.481640e-07   26.021347\n",
       "state_ar                                            7.136472e-01    0.134674\n",
       "state_az                                            7.856320e-01    0.073984\n",
       "state_ca                                            8.736702e-06   19.804141\n",
       "...                                                          ...         ...\n",
       "condition_hip_or_knee_replacement,_amputation_o...  1.123506e-08   32.707527\n",
       "condition_nervous_system_disorder_(excluding_st...  5.222819e-05   16.389458\n",
       "condition_spinal_cord_disease_or_condition_(non...  9.169113e-28  120.481575\n",
       "condition_spinal_cord_injury_(traumatic)            1.277457e-49  223.438273\n",
       "condition_stroke                                    5.486418e-65  297.028932\n",
       "\n",
       "[61 rows x 2 columns]"
      ]
     },
     "execution_count": 12,
     "metadata": {},
     "output_type": "execute_result"
    }
   ],
   "source": [
    "kbest_results = pd.DataFrame(dict(p=kbest.pvalues_, f=kbest.scores_), index=X_train.columns)\n",
    "kbest_results"
   ]
  },
  {
   "cell_type": "markdown",
   "metadata": {},
   "source": [
    "What are the best?"
   ]
  },
  {
   "cell_type": "code",
   "execution_count": 13,
   "metadata": {},
   "outputs": [
    {
     "data": {
      "text/plain": [
       "Index(['condition_all_other_conditions',\n",
       "       'condition_spinal_cord_injury_(traumatic)', 'condition_stroke'],\n",
       "      dtype='object')"
      ]
     },
     "execution_count": 13,
     "metadata": {},
     "output_type": "execute_result"
    }
   ],
   "source": [
    "X_train.columns[kbest.get_support()]"
   ]
  },
  {
   "cell_type": "markdown",
   "metadata": {},
   "source": [
    "Show the dataframe with the top 3"
   ]
  },
  {
   "cell_type": "code",
   "execution_count": 14,
   "metadata": {},
   "outputs": [
    {
     "data": {
      "text/html": [
       "<div>\n",
       "<style scoped>\n",
       "    .dataframe tbody tr th:only-of-type {\n",
       "        vertical-align: middle;\n",
       "    }\n",
       "\n",
       "    .dataframe tbody tr th {\n",
       "        vertical-align: top;\n",
       "    }\n",
       "\n",
       "    .dataframe thead th {\n",
       "        text-align: right;\n",
       "    }\n",
       "</style>\n",
       "<table border=\"1\" class=\"dataframe\">\n",
       "  <thead>\n",
       "    <tr style=\"text-align: right;\">\n",
       "      <th></th>\n",
       "      <th>condition_all_other_conditions</th>\n",
       "      <th>condition_spinal_cord_injury_(traumatic)</th>\n",
       "      <th>condition_stroke</th>\n",
       "    </tr>\n",
       "  </thead>\n",
       "  <tbody>\n",
       "    <tr>\n",
       "      <th>6737</th>\n",
       "      <td>0</td>\n",
       "      <td>0</td>\n",
       "      <td>0</td>\n",
       "    </tr>\n",
       "    <tr>\n",
       "      <th>8915</th>\n",
       "      <td>0</td>\n",
       "      <td>0</td>\n",
       "      <td>0</td>\n",
       "    </tr>\n",
       "    <tr>\n",
       "      <th>86</th>\n",
       "      <td>0</td>\n",
       "      <td>0</td>\n",
       "      <td>0</td>\n",
       "    </tr>\n",
       "    <tr>\n",
       "      <th>1216</th>\n",
       "      <td>0</td>\n",
       "      <td>0</td>\n",
       "      <td>0</td>\n",
       "    </tr>\n",
       "    <tr>\n",
       "      <th>8870</th>\n",
       "      <td>0</td>\n",
       "      <td>0</td>\n",
       "      <td>0</td>\n",
       "    </tr>\n",
       "    <tr>\n",
       "      <th>...</th>\n",
       "      <td>...</td>\n",
       "      <td>...</td>\n",
       "      <td>...</td>\n",
       "    </tr>\n",
       "    <tr>\n",
       "      <th>5382</th>\n",
       "      <td>1</td>\n",
       "      <td>0</td>\n",
       "      <td>0</td>\n",
       "    </tr>\n",
       "    <tr>\n",
       "      <th>5102</th>\n",
       "      <td>0</td>\n",
       "      <td>0</td>\n",
       "      <td>1</td>\n",
       "    </tr>\n",
       "    <tr>\n",
       "      <th>6441</th>\n",
       "      <td>0</td>\n",
       "      <td>0</td>\n",
       "      <td>0</td>\n",
       "    </tr>\n",
       "    <tr>\n",
       "      <th>8921</th>\n",
       "      <td>0</td>\n",
       "      <td>0</td>\n",
       "      <td>0</td>\n",
       "    </tr>\n",
       "    <tr>\n",
       "      <th>1233</th>\n",
       "      <td>1</td>\n",
       "      <td>0</td>\n",
       "      <td>0</td>\n",
       "    </tr>\n",
       "  </tbody>\n",
       "</table>\n",
       "<p>5931 rows × 3 columns</p>\n",
       "</div>"
      ],
      "text/plain": [
       "      condition_all_other_conditions  \\\n",
       "6737                               0   \n",
       "8915                               0   \n",
       "86                                 0   \n",
       "1216                               0   \n",
       "8870                               0   \n",
       "...                              ...   \n",
       "5382                               1   \n",
       "5102                               0   \n",
       "6441                               0   \n",
       "8921                               0   \n",
       "1233                               1   \n",
       "\n",
       "      condition_spinal_cord_injury_(traumatic)  condition_stroke  \n",
       "6737                                         0                 0  \n",
       "8915                                         0                 0  \n",
       "86                                           0                 0  \n",
       "1216                                         0                 0  \n",
       "8870                                         0                 0  \n",
       "...                                        ...               ...  \n",
       "5382                                         0                 0  \n",
       "5102                                         0                 1  \n",
       "6441                                         0                 0  \n",
       "8921                                         0                 0  \n",
       "1233                                         0                 0  \n",
       "\n",
       "[5931 rows x 3 columns]"
      ]
     },
     "execution_count": 14,
     "metadata": {},
     "output_type": "execute_result"
    }
   ],
   "source": [
    "X_train_transformed = pd.DataFrame(\n",
    "    kbest.transform(X_train),\n",
    "    index=X_train.index,\n",
    "    columns=X_train.columns[kbest.get_support()])\n",
    "\n",
    "X_train_transformed"
   ]
  },
  {
   "cell_type": "markdown",
   "metadata": {},
   "source": [
    "---\n",
    "### Create a Baseline\n",
    "Before we can begin building some models we must establish a baseline"
   ]
  },
  {
   "cell_type": "code",
   "execution_count": 15,
   "metadata": {},
   "outputs": [
    {
     "data": {
      "text/plain": [
       "(5931, 1)"
      ]
     },
     "execution_count": 15,
     "metadata": {},
     "output_type": "execute_result"
    }
   ],
   "source": [
    "baseline = pd.DataFrame({\n",
    "    'mean' : [y_train.mean()] * y_train.size\n",
    "})\n",
    "baseline.shape\n"
   ]
  },
  {
   "cell_type": "code",
   "execution_count": 16,
   "metadata": {},
   "outputs": [
    {
     "name": "stdout",
     "output_type": "stream",
     "text": [
      "RMSE mean baseline: 53.38885607974989\n"
     ]
    }
   ],
   "source": [
    "print(f'RMSE mean baseline: {mean_squared_error(y_train, baseline[\"mean\"], squared = False)}')"
   ]
  },
  {
   "cell_type": "markdown",
   "metadata": {},
   "source": [
    "---\n",
    "### Creating Models"
   ]
  },
  {
   "cell_type": "markdown",
   "metadata": {},
   "source": [
    "Top features from KBest"
   ]
  },
  {
   "cell_type": "code",
   "execution_count": 17,
   "metadata": {},
   "outputs": [],
   "source": [
    "features = ['condition_all_other_conditions', 'condition_spinal_cord_injury_(traumatic)', 'condition_stroke']"
   ]
  },
  {
   "cell_type": "markdown",
   "metadata": {},
   "source": [
    "Baseline validation"
   ]
  },
  {
   "cell_type": "code",
   "execution_count": 18,
   "metadata": {},
   "outputs": [],
   "source": [
    "baseline_val = pd.Series([y_train.mean()] * y_validate.size)"
   ]
  },
  {
   "cell_type": "markdown",
   "metadata": {},
   "source": [
    "Create a results dictionary to hold results of models "
   ]
  },
  {
   "cell_type": "code",
   "execution_count": 19,
   "metadata": {},
   "outputs": [],
   "source": [
    "results = {\n",
    "    'baseline' : {\n",
    "        'RMSE' : mean_squared_error(y_train, baseline['mean'], squared = False),\n",
    "        'R^2' : r2_score(y_train, baseline['mean']),\n",
    "        'RMSE_val' : mean_squared_error(y_validate, baseline_val, squared = False),\n",
    "        'R^2_val' : r2_score(y_validate, baseline_val)\n",
    "        }}"
   ]
  },
  {
   "cell_type": "code",
   "execution_count": 20,
   "metadata": {},
   "outputs": [
    {
     "data": {
      "text/plain": [
       "<AxesSubplot:xlabel='number_of_instances', ylabel='Count'>"
      ]
     },
     "execution_count": 20,
     "metadata": {},
     "output_type": "execute_result"
    },
    {
     "data": {
      "image/png": "[encoded data removed]",
      "text/plain": [
       "<Figure size 432x288 with 1 Axes>"
      ]
     },
     "metadata": {
      "needs_background": "light"
     },
     "output_type": "display_data"
    }
   ],
   "source": [
    "sns.histplot(y_train)"
   ]
  },
  {
   "cell_type": "markdown",
   "metadata": {},
   "source": [
    "For this distribution we'll try linear regression, polynomial regression, and a tweedie regressor."
   ]
  },
  {
   "cell_type": "markdown",
   "metadata": {},
   "source": [
    "### Linear Regresion"
   ]
  },
  {
   "cell_type": "code",
   "execution_count": 21,
   "metadata": {},
   "outputs": [
    {
     "data": {
      "text/plain": [
       "0.13000205175742352"
      ]
     },
     "execution_count": 21,
     "metadata": {},
     "output_type": "execute_result"
    }
   ],
   "source": [
    "model = LinearRegression()\n",
    "model.fit(X_train[features], y_train)\n",
    "\n",
    "r2_score(y_train, model.predict(X_train[features]))"
   ]
  },
  {
   "cell_type": "code",
   "execution_count": 22,
   "metadata": {},
   "outputs": [
    {
     "data": {
      "text/plain": [
       "49.79775106649881"
      ]
     },
     "execution_count": 22,
     "metadata": {},
     "output_type": "execute_result"
    }
   ],
   "source": [
    "mean_squared_error(y_train, model.predict(X_train[features]), squared = False)"
   ]
  },
  {
   "cell_type": "markdown",
   "metadata": {},
   "source": [
    "Add results to the dictionary"
   ]
  },
  {
   "cell_type": "code",
   "execution_count": 23,
   "metadata": {},
   "outputs": [],
   "source": [
    "results['linear_regression'] = {\n",
    "    'RMSE' : mean_squared_error(y_train, model.predict(X_train[features]), squared = False),\n",
    "    'R^2' : r2_score(y_train, model.predict(X_train[features])),\n",
    "    'RMSE_val' : mean_squared_error(y_validate, model.predict(X_validate[features]), squared = False),\n",
    "    'R^2_val' : r2_score(y_validate, model.predict(X_validate[features]))\n",
    "}"
   ]
  },
  {
   "cell_type": "markdown",
   "metadata": {},
   "source": [
    "### Polynomial Regression"
   ]
  },
  {
   "cell_type": "code",
   "execution_count": 24,
   "metadata": {},
   "outputs": [
    {
     "data": {
      "text/plain": [
       "0.1299472770949559"
      ]
     },
     "execution_count": 24,
     "metadata": {},
     "output_type": "execute_result"
    }
   ],
   "source": [
    "poly = PolynomialFeatures(degree = 2, include_bias = False, interaction_only = False)\n",
    "poly.fit(X_train[features])\n",
    "\n",
    "X_train_poly = pd.DataFrame(\n",
    "    poly.transform(X_train[features]),\n",
    "    columns = poly.get_feature_names(X_train[features].columns),\n",
    "    index = X_train[features].index\n",
    ")\n",
    "\n",
    "model = LinearRegression()\n",
    "model.fit(X_train_poly, y_train)\n",
    "\n",
    "r2_score(y_train, model.predict(X_train_poly))"
   ]
  },
  {
   "cell_type": "code",
   "execution_count": 25,
   "metadata": {},
   "outputs": [
    {
     "data": {
      "text/plain": [
       "49.79931866334211"
      ]
     },
     "execution_count": 25,
     "metadata": {},
     "output_type": "execute_result"
    }
   ],
   "source": [
    "mean_squared_error(y_train, model.predict(X_train_poly), squared = False)"
   ]
  },
  {
   "cell_type": "markdown",
   "metadata": {},
   "source": [
    "Preapare X_validate with the polynomial features"
   ]
  },
  {
   "cell_type": "code",
   "execution_count": 26,
   "metadata": {},
   "outputs": [],
   "source": [
    "poly = PolynomialFeatures(degree = 2, include_bias = False, interaction_only = False)\n",
    "poly.fit(X_validate[features])\n",
    "\n",
    "X_validate_poly = pd.DataFrame(\n",
    "    poly.transform(X_validate[features]),\n",
    "    columns = poly.get_feature_names(X_validate[features].columns),\n",
    "    index = X_validate[features].index\n",
    ")"
   ]
  },
  {
   "cell_type": "code",
   "execution_count": 27,
   "metadata": {},
   "outputs": [],
   "source": [
    "results['polynomial_regression'] = {\n",
    "    'RMSE' : mean_squared_error(y_train, model.predict(X_train_poly), squared = False),\n",
    "    'R^2' : r2_score(y_train, model.predict(X_train_poly)),\n",
    "    'RMSE_val' : mean_squared_error(y_validate, model.predict(X_validate_poly), squared = False),\n",
    "    'R^2_val' : r2_score(y_validate, model.predict(X_validate_poly))}"
   ]
  },
  {
   "cell_type": "markdown",
   "metadata": {},
   "source": [
    "### Tweedie Regressor"
   ]
  },
  {
   "cell_type": "code",
   "execution_count": 28,
   "metadata": {},
   "outputs": [
    {
     "data": {
      "text/plain": [
       "0.1300020517543884"
      ]
     },
     "execution_count": 28,
     "metadata": {},
     "output_type": "execute_result"
    }
   ],
   "source": [
    "model = TweedieRegressor(power = 0, alpha = 0)\n",
    "model.fit(X_train[features], y_train)\n",
    "\n",
    "r2_score(y_train, model.predict(X_train[features]))"
   ]
  },
  {
   "cell_type": "code",
   "execution_count": 29,
   "metadata": {},
   "outputs": [
    {
     "data": {
      "text/plain": [
       "49.79775106658567"
      ]
     },
     "execution_count": 29,
     "metadata": {},
     "output_type": "execute_result"
    }
   ],
   "source": [
    "mean_squared_error(y_train, model.predict(X_train[features]), squared = False)"
   ]
  },
  {
   "cell_type": "code",
   "execution_count": 30,
   "metadata": {},
   "outputs": [],
   "source": [
    "results['tweedie_regressor'] = {\n",
    "    'RMSE' : mean_squared_error(y_train, model.predict(X_train[features]), squared = False),\n",
    "    'R^2' : r2_score(y_train, model.predict(X_train[features])),\n",
    "    'RMSE_val' : mean_squared_error(y_validate, model.predict(X_validate[features]), squared = False),\n",
    "    'R^2_val' : r2_score(y_validate, model.predict(X_validate[features]))}"
   ]
  },
  {
   "cell_type": "markdown",
   "metadata": {},
   "source": [
    "---\n",
    "### Results"
   ]
  },
  {
   "cell_type": "code",
   "execution_count": 31,
   "metadata": {},
   "outputs": [
    {
     "data": {
      "text/html": [
       "<div>\n",
       "<style scoped>\n",
       "    .dataframe tbody tr th:only-of-type {\n",
       "        vertical-align: middle;\n",
       "    }\n",
       "\n",
       "    .dataframe tbody tr th {\n",
       "        vertical-align: top;\n",
       "    }\n",
       "\n",
       "    .dataframe thead th {\n",
       "        text-align: right;\n",
       "    }\n",
       "</style>\n",
       "<table border=\"1\" class=\"dataframe\">\n",
       "  <thead>\n",
       "    <tr style=\"text-align: right;\">\n",
       "      <th></th>\n",
       "      <th>RMSE</th>\n",
       "      <th>R^2</th>\n",
       "      <th>RMSE_val</th>\n",
       "      <th>R^2_val</th>\n",
       "    </tr>\n",
       "  </thead>\n",
       "  <tbody>\n",
       "    <tr>\n",
       "      <th>baseline</th>\n",
       "      <td>53.388856</td>\n",
       "      <td>0.000000</td>\n",
       "      <td>54.398349</td>\n",
       "      <td>-0.000055</td>\n",
       "    </tr>\n",
       "    <tr>\n",
       "      <th>linear_regression</th>\n",
       "      <td>49.797751</td>\n",
       "      <td>0.130002</td>\n",
       "      <td>51.002399</td>\n",
       "      <td>0.120909</td>\n",
       "    </tr>\n",
       "    <tr>\n",
       "      <th>polynomial_regression</th>\n",
       "      <td>49.799319</td>\n",
       "      <td>0.129947</td>\n",
       "      <td>50.997512</td>\n",
       "      <td>0.121078</td>\n",
       "    </tr>\n",
       "    <tr>\n",
       "      <th>tweedie_regressor</th>\n",
       "      <td>49.797751</td>\n",
       "      <td>0.130002</td>\n",
       "      <td>51.002398</td>\n",
       "      <td>0.120909</td>\n",
       "    </tr>\n",
       "  </tbody>\n",
       "</table>\n",
       "</div>"
      ],
      "text/plain": [
       "                            RMSE       R^2   RMSE_val   R^2_val\n",
       "baseline               53.388856  0.000000  54.398349 -0.000055\n",
       "linear_regression      49.797751  0.130002  51.002399  0.120909\n",
       "polynomial_regression  49.799319  0.129947  50.997512  0.121078\n",
       "tweedie_regressor      49.797751  0.130002  51.002398  0.120909"
      ]
     },
     "execution_count": 31,
     "metadata": {},
     "output_type": "execute_result"
    }
   ],
   "source": [
    "pd.DataFrame(results).T"
   ]
  },
  {
   "cell_type": "markdown",
   "metadata": {},
   "source": [
    "---\n",
    "### Conclusions\n",
    "All models performed well. Polynomial regression is the most consistent. "
   ]
  }
 ],
 "metadata": {
  "interpreter": {
   "hash": "38cca0c38332a56087b24af0bc80247f4fced29cb4f7f437d91dc159adec9c4e"
  },
  "kernelspec": {
   "display_name": "Python 3.9.7 ('base')",
   "language": "python",
   "name": "python3"
  },
  "language_info": {
   "codemirror_mode": {
    "name": "ipython",
    "version": 3
   },
   "file_extension": ".py",
   "mimetype": "text/x-python",
   "name": "python",
   "nbconvert_exporter": "python",
   "pygments_lexer": "ipython3",
   "version": "3.9.7"
  },
  "orig_nbformat": 4
 },
 "nbformat": 4,
 "nbformat_minor": 2
}
